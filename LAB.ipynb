{
 "cells": [
  {
   "cell_type": "code",
   "execution_count": 1,
   "id": "d8cc3840",
   "metadata": {},
   "outputs": [
    {
     "data": {
      "text/plain": [
       "-1"
      ]
     },
     "execution_count": 1,
     "metadata": {},
     "output_type": "execute_result"
    }
   ],
   "source": [
    "#To Read Grayscale Image\n",
    "\n",
    "import cv2\n",
    "\n",
    "img = cv2.imread(r\"E:\\Images\\baby2.jpg\",cv2.IMREAD_GRAYSCALE)\n",
    "\n",
    "cv2.imshow(\"Baby\",img)\n",
    "cv2.waitKey(0)"
   ]
  },
  {
   "cell_type": "code",
   "execution_count": 2,
   "id": "746859f0",
   "metadata": {},
   "outputs": [
    {
     "name": "stdout",
     "output_type": "stream",
     "text": [
      "Image is saved in new drive\n"
     ]
    },
    {
     "data": {
      "text/plain": [
       "-1"
      ]
     },
     "execution_count": 2,
     "metadata": {},
     "output_type": "execute_result"
    }
   ],
   "source": [
    "#  Increase and decrease the Brightness of the Image and save Image in New Drive\n",
    "\n",
    "import cv2\n",
    "import numpy as np\n",
    "\n",
    "img = cv2.imread(r\"E:\\Images\\nature3.jpg\")\n",
    "img = cv2.resize(img,(450,450))\n",
    "drive = 'E:/Drive/'\n",
    "try:\n",
    "    os.mkdir(drive)\n",
    "except Exception as e:\n",
    "    print(\"Image is saved in new drive\")\n",
    "\n",
    "img2 = np.ones(img.shape,dtype=\"uint8\")*60\n",
    "\n",
    "bimg = cv2.add(img,img2)\n",
    "dimg = cv2.subtract(img,img2)\n",
    "\n",
    "cv2.imshow(\"Actual_Img\",img)\n",
    "cv2.imshow(\"Increase_Brightness\",bimg)\n",
    "cv2.imshow(\"Decrease_Brightness\",dimg)\n",
    "cv2.imwrite(drive+\"IB.jpg\",bimg)\n",
    "cv2.imwrite(drive+\"DB.jpg\",dimg)\n",
    "cv2.waitKey(0)"
   ]
  },
  {
   "cell_type": "code",
   "execution_count": 3,
   "id": "c7a90c42",
   "metadata": {},
   "outputs": [
    {
     "data": {
      "text/plain": [
       "-1"
      ]
     },
     "execution_count": 3,
     "metadata": {},
     "output_type": "execute_result"
    }
   ],
   "source": [
    "# Split Image in R,G,B channels\n",
    "\n",
    "import cv2\n",
    "\n",
    "img = cv2.imread(r\"E:\\Images\\rgb2.jpg\")\n",
    "\n",
    "r,g,b = cv2.split(img)\n",
    "\n",
    "cv2.imshow(\"Actual_img\",img)\n",
    "cv2.imshow(\"Red_img\",b)\n",
    "cv2.imshow(\"Green_img\",g)\n",
    "cv2.imshow(\"Blue_img\",r)\n",
    "\n",
    "cv2.waitKey(0)"
   ]
  },
  {
   "cell_type": "code",
   "execution_count": 8,
   "id": "b5502621",
   "metadata": {},
   "outputs": [
    {
     "name": "stdout",
     "output_type": "stream",
     "text": [
      "---Image Properties---\n",
      "Data type :uint8\n",
      "Pixels :1205604\n",
      "type :<class 'numpy.ndarray'>\n",
      "length :549\n",
      "Dimentions :(549, 732, 3)\n",
      "Height :549\n",
      "Width :732\n",
      "channels :3\n"
     ]
    }
   ],
   "source": [
    "# properties of image\n",
    "\n",
    "import cv2\n",
    "import numpy as np\n",
    "\n",
    "img = cv2.imread(r\"E:\\Images\\dog2.jpg\")\n",
    "\n",
    "print(\"---Image Properties---\")\n",
    "print(\"Data type :\"+str(img.dtype))\n",
    "print(\"Pixels :\"+str(img.size))\n",
    "print(\"type :\"+str(type(img)))\n",
    "print(\"length :\"+str(len(img)))\n",
    "print(\"Dimentions :\"+str(img.shape))\n",
    "print(\"Height :\"+str(img.shape[0]))\n",
    "print(\"Width :\"+str(img.shape[1]))\n",
    "print(\"channels :\"+str(img.shape[2]))"
   ]
  },
  {
   "cell_type": "code",
   "execution_count": null,
   "id": "1e7ca7f5",
   "metadata": {},
   "outputs": [],
   "source": []
  },
  {
   "cell_type": "code",
   "execution_count": 5,
   "id": "60bcbcc4",
   "metadata": {},
   "outputs": [
    {
     "name": "stdout",
     "output_type": "stream",
     "text": [
      "Image is saved in new drive\n"
     ]
    },
    {
     "data": {
      "text/plain": [
       "-1"
      ]
     },
     "execution_count": 5,
     "metadata": {},
     "output_type": "execute_result"
    }
   ],
   "source": [
    "# Read a colour image, convert it into gray scale image. Increase and\n",
    "# decrease the contrast and display all the three images and save.\n",
    "\n",
    "import cv2\n",
    "import numpy as np\n",
    "\n",
    "img = cv2.imread(r\"E:\\Images\\nature3.jpg\",cv2.IMREAD_GRAYSCALE)\n",
    "img = cv2.resize(img,(450,450))\n",
    "drive = 'E:/Drive/'\n",
    "try:\n",
    "    os.mkdir(drive)\n",
    "except Exception as e:\n",
    "    print(\"Image is saved in new drive\")\n",
    "\n",
    "img2 = np.ones(img.shape,dtype=\"uint8\")*60\n",
    "\n",
    "bimg = cv2.add(img,img2)\n",
    "dimg = cv2.subtract(img,img2)\n",
    "\n",
    "cv2.imshow(\"Actual_Img\",img)\n",
    "cv2.imshow(\"Increase_Brightness\",bimg)\n",
    "cv2.imshow(\"Decrease_Brightness\",dimg)\n",
    "cv2.imwrite(drive+\"IB.jpg\",bimg)\n",
    "cv2.imwrite(drive+\"DB.jpg\",dimg)\n",
    "cv2.waitKey(0)"
   ]
  },
  {
   "cell_type": "code",
   "execution_count": 1,
   "id": "22b3a7ef",
   "metadata": {},
   "outputs": [
    {
     "data": {
      "text/plain": [
       "27"
      ]
     },
     "execution_count": 1,
     "metadata": {},
     "output_type": "execute_result"
    }
   ],
   "source": [
    "# Resize The Image Using interpolation method\n",
    "# Downscale\n",
    "\n",
    "import cv2\n",
    "\n",
    "img = cv2.imread(r\"E:\\Images\\bike2.jpg\")\n",
    "\n",
    "img2 = cv2.resize(img,(0,0),fx=0.5,fy=0.5)\n",
    "\n",
    "cv2.imshow(\"Actual_img\",img)\n",
    "cv2.imshow(\"Resized_img\",img2)\n",
    "\n",
    "cv2.waitKey(0)"
   ]
  },
  {
   "cell_type": "code",
   "execution_count": 5,
   "id": "9c1acb62",
   "metadata": {},
   "outputs": [
    {
     "data": {
      "text/plain": [
       "-1"
      ]
     },
     "execution_count": 5,
     "metadata": {},
     "output_type": "execute_result"
    }
   ],
   "source": [
    "# Scale the image vertically and horizontally\n",
    "\n",
    "import cv2\n",
    "\n",
    "img = cv2.imread(r\"E:\\Images\\baby2.jpg\")\n",
    "w = 900\n",
    "h = 900\n",
    "\n",
    "vimg = (h,img.shape[1])\n",
    "himg = (w,img.shape[0])\n",
    "\n",
    "v_img = cv2.resize(img,vimg,interpolation = cv2.INTER_AREA)\n",
    "h_img = cv2.resize(img,himg,interpolation = cv2.INTER_AREA)\n",
    "\n",
    "cv2.imshow(\"Orginal_img\",img)\n",
    "cv2.imshow(\"Vertical_img\",v_img)\n",
    "cv2.imshow(\"Horizontal_img\",h_img)\n",
    "\n",
    "\n",
    "cv2.waitKey(0)"
   ]
  },
  {
   "cell_type": "code",
   "execution_count": 1,
   "id": "ce53a8d4",
   "metadata": {},
   "outputs": [
    {
     "data": {
      "text/plain": [
       "-1"
      ]
     },
     "execution_count": 1,
     "metadata": {},
     "output_type": "execute_result"
    }
   ],
   "source": [
    "# Downsampling and Upsampling\n",
    "\n",
    "import cv2\n",
    "\n",
    "img = cv2.imread(r\"E:\\Images\\baby.jpg\")\n",
    "\n",
    "cv2.imshow(\"Orginal_img\",img)\n",
    "\n",
    "img_down = cv2.resize(img,(0,0),fx=0.5,fy=0.5)\n",
    "img_up = cv2.resize(img,(0,0),fx=2,fy=2)\n",
    "\n",
    "cv2.imshow(\"Down\",img_down)\n",
    "cv2.imshow(\"up\",img_up)\n",
    "\n",
    "cv2.waitKey(0)"
   ]
  },
  {
   "cell_type": "code",
   "execution_count": 6,
   "id": "9888bdd5",
   "metadata": {},
   "outputs": [
    {
     "data": {
      "text/plain": [
       "-1"
      ]
     },
     "execution_count": 6,
     "metadata": {},
     "output_type": "execute_result"
    }
   ],
   "source": [
    "# stretching, shrinking and zooming using interpolation methods\n",
    "\n",
    "import cv2\n",
    "\n",
    "img = cv2.imread(r\"E:\\Images\\baby.jpg\")\n",
    "stretch = cv2.resize(img,(600,600),interpolation = cv2.INTER_NEAREST)\n",
    "strink = cv2.resize(img,(300,300),interpolation = cv2.INTER_NEAREST)\n",
    "zooming = cv2.resize(img,(900,900),interpolation = cv2.INTER_NEAREST)\n",
    "\n",
    "cv2.imshow(\"Orginal_img\",img)\n",
    "cv2.imshow(\"Stretch\",stretch)\n",
    "cv2.imshow(\"strink\",strink)\n",
    "cv2.imshow(\"zooming\",zooming)\n",
    "\n",
    "cv2.waitKey(0)"
   ]
  },
  {
   "cell_type": "code",
   "execution_count": 7,
   "id": "47ae5cf0",
   "metadata": {},
   "outputs": [
    {
     "data": {
      "text/plain": [
       "-1"
      ]
     },
     "execution_count": 7,
     "metadata": {},
     "output_type": "execute_result"
    }
   ],
   "source": [
    "# to Rotate Image by 60 degree\n",
    "\n",
    "import cv2\n",
    "import imutils\n",
    "\n",
    "img = cv2.imread(r\"E:\\Images\\skull.jpg\")\n",
    "img2 = imutils.rotate(img,angle=60)\n",
    "\n",
    "cv2.imshow(\"Actual_img\",img)\n",
    "cv2.imshow(\"Rotate_60\",img2)\n",
    "\n",
    "cv2.waitKey(0)"
   ]
  },
  {
   "cell_type": "code",
   "execution_count": 1,
   "id": "d205a5b1",
   "metadata": {},
   "outputs": [
    {
     "data": {
      "text/plain": [
       "-1"
      ]
     },
     "execution_count": 1,
     "metadata": {},
     "output_type": "execute_result"
    }
   ],
   "source": [
    "# 4.Enhance an image using Image Arithmetic and Logical Operations\n",
    "\n",
    "import cv2\n",
    "\n",
    "image1 = cv2.imread(r\"E:\\Images\\baby.jpg\")\n",
    "image2 = cv2.imread(r\"E:\\Images\\baby2.jpg\")\n",
    "img1 = cv2.resize(image1,(400,500))\n",
    "img2 = cv2.resize(image2,(400,500))\n",
    "\n",
    "cv2.imshow(\"Orginal_img1\",img1)\n",
    "cv2.imshow(\"Orginal_img2\",img2)\n",
    "\n",
    "added = cv2.add(img1,img2)\n",
    "cv2.imshow('Added Image',added)\n",
    "\n",
    "added = cv2.addWeighted(img1,0.4,img2,0.5,0)\n",
    "cv2.imshow('Weighted_add',added)\n",
    "\n",
    "added = cv2.subtract(img1,img2)\n",
    "cv2.imshow('Sub_img',added)\n",
    "\n",
    "added = cv2.bitwise_and(img1,img2)\n",
    "cv2.imshow('Bitwise_and',added)\n",
    "\n",
    "added = cv2.bitwise_or(img1,img2)\n",
    "cv2.imshow('Bitwise_or',added)\n",
    "\n",
    "added = cv2.bitwise_not(img1,img2)\n",
    "cv2.imshow('Bitwise_not',added)\n",
    "\n",
    "\n",
    "cv2.waitKey(0)\n"
   ]
  },
  {
   "cell_type": "code",
   "execution_count": null,
   "id": "45e88f34",
   "metadata": {},
   "outputs": [],
   "source": [
    "# Mean/Box/Average Filter, concatenate two images horizontally and display.\n",
    "\n",
    "import cv2\n",
    "import numpy as np\n",
    "\n",
    "img = cv2.imread(r\"E:\\Images\\baby2.jpg\")\n",
    "img = cv2.resize(img,(300,300))\n",
    "\n",
    "blur1 = np.ones((3,3),float)/(9.0)\n",
    "blur2 = np.ones((5,5),float)/(25.0)\n",
    "blur3 = np.ones((7,7),float)/(49.0)\n",
    "\n",
    "img_blur1 = cv2.filter2D(img,-1,blur1)\n",
    "img_blur2 = cv2.filter2D(img,-1,blur2)\n",
    "img_blur3 = cv2.filter2D(img,-1,blur3)\n",
    "\n",
    "hori = cv2.hconcat([img,img_blur1,img_blur2,img_blur3])\n",
    "\n",
    "cv2.imshow(\"Horizont\",hori)\n",
    "cv2.waitKey(0)\n",
    "\n",
    "\n",
    "cv2.waitKey(0)"
   ]
  },
  {
   "cell_type": "code",
   "execution_count": 1,
   "id": "9bafe657",
   "metadata": {},
   "outputs": [
    {
     "data": {
      "text/plain": [
       "-1"
      ]
     },
     "execution_count": 1,
     "metadata": {},
     "output_type": "execute_result"
    }
   ],
   "source": [
    "# Gaussian blurring, concatenate two images vertically and display\n",
    "\n",
    "import cv2\n",
    "img = cv2.imread(r\"E:\\Images\\baby.jpg\")\n",
    "img = cv2.resize(img,(200,200))\n",
    "\n",
    "gb1 =cv2.GaussianBlur(img,(3,3),0)\n",
    "gb2 =cv2.GaussianBlur(img,(5,5),0)\n",
    "gb3 =cv2.GaussianBlur(img,(7,7),0)\n",
    "\n",
    "gb_img = cv2.vconcat([img,gb1,gb2,gb3])\n",
    "cv2.imshow(\"vertical\",gb_img)\n",
    "cv2.waitKey(0)\n",
    "\n"
   ]
  },
  {
   "cell_type": "code",
   "execution_count": 2,
   "id": "5abf1d8b",
   "metadata": {},
   "outputs": [
    {
     "data": {
      "text/plain": [
       "-1"
      ]
     },
     "execution_count": 2,
     "metadata": {},
     "output_type": "execute_result"
    }
   ],
   "source": [
    "# Median blurring and display the image\n",
    "\n",
    "import cv2\n",
    "img = cv2.imread(r\"E:\\Images\\baby.jpg\")\n",
    "\n",
    "mb = cv2.medianBlur(img,9)\n",
    "cv2.imshow(\"orginal_img\",img)\n",
    "cv2.imshow(\"Median_blur\",mb)\n",
    "cv2.waitKey(0)\n"
   ]
  },
  {
   "cell_type": "code",
   "execution_count": 3,
   "id": "7c2d42c8",
   "metadata": {},
   "outputs": [
    {
     "data": {
      "text/plain": [
       "-1"
      ]
     },
     "execution_count": 3,
     "metadata": {},
     "output_type": "execute_result"
    }
   ],
   "source": [
    "# Bilateral blurring\n",
    "\n",
    "import cv2\n",
    "img = cv2.imread(r\"E:\\Images\\baby.jpg\")\n",
    "\n",
    "mb = cv2.bilateralFilter(img,17,75,75)\n",
    "cv2.imshow(\"orginal_img\",img)\n",
    "cv2.imshow(\"Bilateral_blur\",mb)\n",
    "cv2.waitKey(0)"
   ]
  },
  {
   "cell_type": "code",
   "execution_count": 4,
   "id": "4a1506c2",
   "metadata": {},
   "outputs": [
    {
     "data": {
      "text/plain": [
       "-1"
      ]
     },
     "execution_count": 4,
     "metadata": {},
     "output_type": "execute_result"
    }
   ],
   "source": [
    "# 9.enhance the brightness and contrast using histogram equalization.\n",
    "\n",
    "import cv2\n",
    "\n",
    "img = cv2.imread(r\"E:\\Images\\baby.jpg\")\n",
    "img_yuv =cv2.cvtColor(img,cv2.COLOR_BGR2YUV)\n",
    "img_yuv[:,:,0] = cv2.equalizeHist(img_yuv[:,:,0])\n",
    "hist_eq = cv2.cvtColor(img_yuv,cv2.COLOR_YUV2BGR)\n",
    "\n",
    "heq_img = cv2.hconcat([img,img_yuv,hist_eq])\n",
    "\n",
    "cv2.imshow(\"img\",heq_img)\n",
    "cv2.waitKey(0)"
   ]
  },
  {
   "cell_type": "code",
   "execution_count": 10,
   "id": "a4170152",
   "metadata": {},
   "outputs": [
    {
     "data": {
      "image/png": "[encoded data removed]",
      "text/plain": [
       "<Figure size 432x288 with 4 Axes>"
      ]
     },
     "metadata": {
      "needs_background": "light"
     },
     "output_type": "display_data"
    }
   ],
   "source": [
    "# 8 .colour and gray scale image using histogram and interpret the same and display both histogram.\n",
    "\n",
    "import cv2\n",
    "from matplotlib import pyplot as plt\n",
    "\n",
    "image1 = cv2.imread(r\"E:\\Images\\baby.jpg\")\n",
    "image2 = cv2.imread(r\"E:\\Images\\baby.jpg\",cv2.IMREAD_GRAYSCALE)\n",
    "\n",
    "hist1 = cv2.calcHist(image1,[0],None,[256],[0,256])\n",
    "hist2 = cv2.calcHist(image2,[0],None,[256],[0,256])\n",
    "\n",
    "plt.subplot(221),plt.imshow(image1)\n",
    "plt.subplot(222),plt.plot(hist1)\n",
    "\n",
    "\n",
    "plt.subplot(223),plt.imshow(image2)\n",
    "plt.subplot(224),plt.plot(hist2)\n",
    "plt.show()"
   ]
  },
  {
   "cell_type": "code",
   "execution_count": null,
   "id": "f88e785a",
   "metadata": {},
   "outputs": [],
   "source": []
  }
 ],
 "metadata": {
  "kernelspec": {
   "display_name": "Python 3 (ipykernel)",
   "language": "python",
   "name": "python3"
  },
  "language_info": {
   "codemirror_mode": {
    "name": "ipython",
    "version": 3
   },
   "file_extension": ".py",
   "mimetype": "text/x-python",
   "name": "python",
   "nbconvert_exporter": "python",
   "pygments_lexer": "ipython3",
   "version": "3.9.12"
  }
 },
 "nbformat": 4,
 "nbformat_minor": 5
}
